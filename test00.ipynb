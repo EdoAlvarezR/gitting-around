{
 "cells": [
  {
   "cell_type": "markdown",
   "metadata": {},
   "source": [
    "# Local\n",
    "<img src=\"img/test.gif\" alt=\"gif here\" style=\"width: 800px;\"/>\n",
    "\n",
    "# Remote\n",
    "<img src=\"http://www.et.byu.edu/~edoalvar/img/test.gif\" alt=\"gif here\" style=\"width: 800px;\"/>\n"
   ]
  }
 ],
 "metadata": {
  "kernelspec": {
   "display_name": "Julia 0.5.2",
   "language": "julia",
   "name": "julia-0.5"
  },
  "language_info": {
   "file_extension": ".jl",
   "mimetype": "application/julia",
   "name": "julia",
   "version": "0.5.2"
  }
 },
 "nbformat": 4,
 "nbformat_minor": 2
}
